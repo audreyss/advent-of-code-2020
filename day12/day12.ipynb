{
 "cells": [
  {
   "cell_type": "code",
   "execution_count": 40,
   "metadata": {},
   "outputs": [],
   "source": [
    "from math import sin, cos, radians"
   ]
  },
  {
   "cell_type": "code",
   "execution_count": 41,
   "metadata": {},
   "outputs": [],
   "source": [
    "directions = {'N' : [0, 1], 'S' : [0, -1], 'E' : [1, 0], 'W' : [-1, 0]}\n"
   ]
  },
  {
   "cell_type": "code",
   "execution_count": 44,
   "metadata": {},
   "outputs": [],
   "source": [
    "def get_final_position(list_cmd):\n",
    "    cur_pos = (0, 0)\n",
    "    cur_angle = 90\n",
    "    \n",
    "    for cmd in list_cmd:\n",
    "        direction = cmd[0]\n",
    "        value = int(cmd[1:])\n",
    "        \n",
    "        if direction in directions.keys():\n",
    "            tmp = directions[direction]\n",
    "            cur_pos = (cur_pos[0] + tmp[0] * value, cur_pos[1] + tmp[1] * value)\n",
    "        elif direction in ('L', 'R'):\n",
    "            cur_angle += (value if direction == 'R' else 360 - value)\n",
    "            cur_angle %= 360\n",
    "        elif direction == 'F':\n",
    "            y = int(cos(radians(cur_angle)) * value)\n",
    "            x = int(sin(radians(cur_angle)) * value)\n",
    "            cur_pos = (cur_pos[0] + x, cur_pos[1] + y)\n",
    "    return cur_pos\n"
   ]
  },
  {
   "cell_type": "code",
   "execution_count": 60,
   "metadata": {},
   "outputs": [],
   "source": [
    "def get_final_pos_waypoint(list_cmd):\n",
    "    pos = (0, 0)\n",
    "    waypt = (10, 1)\n",
    "    \n",
    "    for cmd in list_cmd:\n",
    "        direction = cmd[0]\n",
    "        value = int(cmd[1:])\n",
    "        \n",
    "        if direction in directions.keys():\n",
    "            tmp = directions[direction]\n",
    "            waypt = (waypt[0] + tmp[0] * value, waypt[1] + tmp[1] * value)\n",
    "        elif direction in ('L', 'R'):\n",
    "            angle = (value if direction == 'R' else 360 - value)\n",
    "            tmp = waypt\n",
    "            if angle == 90:\n",
    "                waypt = (tmp[1], - tmp[0])\n",
    "            elif angle == 270:\n",
    "                waypt = (- tmp[1], tmp[0])\n",
    "            elif angle == 180:\n",
    "                waypt = (- tmp[0], - tmp[1])\n",
    "        elif direction == 'F':\n",
    "            x = waypt[0] * value\n",
    "            y = waypt[1] * value\n",
    "            pos = (pos[0] + x, pos[1] + y)\n",
    "    \n",
    "    return pos"
   ]
  },
  {
   "cell_type": "code",
   "execution_count": 62,
   "metadata": {},
   "outputs": [
    {
     "name": "stdout",
     "output_type": "stream",
     "text": [
      "Part 1 : 962\n",
      "Part 2 : 56135\n"
     ]
    }
   ],
   "source": [
    "with open('data.txt', 'r') as file:\n",
    "    lines = [line.rstrip() for line in file.read().split('\\n')]\n",
    "    \n",
    "    x, y = get_final_position(lines)\n",
    "    print(\"Part 1 : {}\".format(abs(x) + abs(y)))\n",
    "    \n",
    "    x, y = get_final_pos_waypoint(lines)\n",
    "    print(\"Part 2 : {}\".format(abs(x) + abs(y)))"
   ]
  },
  {
   "cell_type": "code",
   "execution_count": null,
   "metadata": {},
   "outputs": [],
   "source": []
  }
 ],
 "metadata": {
  "kernelspec": {
   "display_name": "Python 3",
   "language": "python",
   "name": "python3"
  },
  "language_info": {
   "codemirror_mode": {
    "name": "ipython",
    "version": 3
   },
   "file_extension": ".py",
   "mimetype": "text/x-python",
   "name": "python",
   "nbconvert_exporter": "python",
   "pygments_lexer": "ipython3",
   "version": "3.8.5"
  }
 },
 "nbformat": 4,
 "nbformat_minor": 4
}
