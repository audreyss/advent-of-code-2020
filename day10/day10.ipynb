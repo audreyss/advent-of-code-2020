{
 "cells": [
  {
   "cell_type": "code",
   "execution_count": 20,
   "metadata": {},
   "outputs": [],
   "source": [
    "def get_jolt_diff(l, highest):\n",
    "    nb_1, nb_3, curr = 0, 0, 0\n",
    "    \n",
    "    while curr != highest:\n",
    "        if (curr + 1) in l:\n",
    "            nb_1 += 1\n",
    "            curr += 1\n",
    "        else:\n",
    "            nb_3 += 1\n",
    "            curr += 3\n",
    "            \n",
    "    return nb_1, nb_3 + 1"
   ]
  },
  {
   "cell_type": "code",
   "execution_count": 38,
   "metadata": {},
   "outputs": [],
   "source": [
    "def get_possibilities(l, highest):\n",
    "    graph = {}\n",
    "    l.append(0)\n",
    "    l.sort()  \n",
    "    \n",
    "    for elt in l:\n",
    "        values = [(elt + i) for i in range(1, 4) if (elt + i) in l]\n",
    "        graph[elt] = values\n",
    "\n",
    "    possibilities = {0:1}\n",
    "    for key, value in graph.items():\n",
    "        for val in value:\n",
    "            if val in possibilities.keys():\n",
    "                possibilities[val] += possibilities[key]\n",
    "            else:\n",
    "                possibilities[val] = possibilities[key]\n",
    "    \n",
    "    return possibilities[highest]"
   ]
  },
  {
   "cell_type": "code",
   "execution_count": 40,
   "metadata": {},
   "outputs": [
    {
     "name": "stdout",
     "output_type": "stream",
     "text": [
      "Part 1 : 2812\n",
      "Part 2 : 386869246296064\n"
     ]
    }
   ],
   "source": [
    "with open('data.txt', 'r') as file:\n",
    "    lines = [int(line.rstrip()) for line in file.read().split('\\n')]\n",
    "    highest = max(lines)\n",
    "    nb_1, nb_3 = get_jolt_diff(lines, highest)\n",
    "\n",
    "    print(\"Part 1 : {}\".format(nb_1 * nb_3))\n",
    "    print(\"Part 2 : {}\".format(get_possibilities(lines, highest)))"
   ]
  }
 ],
 "metadata": {
  "kernelspec": {
   "display_name": "Python 3",
   "language": "python",
   "name": "python3"
  },
  "language_info": {
   "codemirror_mode": {
    "name": "ipython",
    "version": 3
   },
   "file_extension": ".py",
   "mimetype": "text/x-python",
   "name": "python",
   "nbconvert_exporter": "python",
   "pygments_lexer": "ipython3",
   "version": "3.8.5"
  }
 },
 "nbformat": 4,
 "nbformat_minor": 4
}
