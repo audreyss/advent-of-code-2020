{
 "cells": [
  {
   "cell_type": "code",
   "execution_count": 3,
   "metadata": {},
   "outputs": [
    {
     "name": "stdout",
     "output_type": "stream",
     "text": [
      "Part 1 : 6437\n"
     ]
    }
   ],
   "source": [
    "with open('data.txt', 'r') as file:\n",
    "    lines = [line.replace('\\n', '') for line in file.read().split('\\n\\n')]\n",
    "    questions = [set(answer) for answer in lines]\n",
    "    nb_questions = [len(question) for question in questions]\n",
    "    \n",
    "    print(\"Part 1 : {}\".format(sum(nb_questions)))\n"
   ]
  },
  {
   "cell_type": "code",
   "execution_count": 4,
   "metadata": {},
   "outputs": [
    {
     "name": "stdout",
     "output_type": "stream",
     "text": [
      "Part 2 : 3229\n"
     ]
    }
   ],
   "source": [
    "with open('data.txt', 'r') as file:\n",
    "    lines = [line.replace('\\n', ' ').split(' ') for line in file.read().split('\\n\\n')]\n",
    "    \n",
    "    questions = []\n",
    "    for line in lines:\n",
    "        questions.append([set(answer) for answer in line])\n",
    "\n",
    "    unique = []\n",
    "    for q in questions:\n",
    "        unique.append(set.intersection(*q))\n",
    "\n",
    "    nb_questions = [len(question) for question in unique]\n",
    "    \n",
    "    print(\"Part 2 : {}\".format(sum(nb_questions)))"
   ]
  }
 ],
 "metadata": {
  "kernelspec": {
   "display_name": "Python 3",
   "language": "python",
   "name": "python3"
  },
  "language_info": {
   "codemirror_mode": {
    "name": "ipython",
    "version": 3
   },
   "file_extension": ".py",
   "mimetype": "text/x-python",
   "name": "python",
   "nbconvert_exporter": "python",
   "pygments_lexer": "ipython3",
   "version": "3.8.5"
  }
 },
 "nbformat": 4,
 "nbformat_minor": 4
}
