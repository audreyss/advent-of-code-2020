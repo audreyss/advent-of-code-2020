{
 "cells": [
  {
   "cell_type": "code",
   "execution_count": 17,
   "metadata": {},
   "outputs": [],
   "source": [
    "adj_dir = [(-1, -1), (-1, 0), (-1, +1), (0, -1), (0, +1), (+1, -1), (+1, 0), (+1, +1)]"
   ]
  },
  {
   "cell_type": "code",
   "execution_count": 18,
   "metadata": {},
   "outputs": [],
   "source": [
    "def count_occupied_seats(seats):\n",
    "    count = 0\n",
    "    for row in seats:\n",
    "        count += row.count('#')\n",
    "    return count"
   ]
  },
  {
   "cell_type": "code",
   "execution_count": 19,
   "metadata": {},
   "outputs": [],
   "source": [
    "def numbers_adj_occupied_seats(seats, id_row, id_col):\n",
    "    count = 0\n",
    "    for row_dir, col_dir in adj_dir:\n",
    "        row = id_row + row_dir\n",
    "        col = id_col + col_dir\n",
    "        if (0 <= row < len(seats)) and (0 <= col < len(seats[0])) and seats[row][col] == '#':\n",
    "            count += 1\n",
    "    return count"
   ]
  },
  {
   "cell_type": "code",
   "execution_count": 20,
   "metadata": {},
   "outputs": [],
   "source": [
    "def numbers_first_occupied_seats(seats, id_row, id_col):\n",
    "    count = 0\n",
    "    nb_rows = len(seats)\n",
    "    nb_cols = len(seats[0])\n",
    "    for row_dir, col_dir in adj_dir:\n",
    "        row = id_row + row_dir\n",
    "        col = id_col + col_dir\n",
    "        while (0 <= row < nb_rows) and (0 <= col < nb_cols):\n",
    "            if seats[row][col] == '#':\n",
    "                count += 1\n",
    "                break\n",
    "            if seats[row][col] == 'L':\n",
    "                break\n",
    "            row += row_dir\n",
    "            col += col_dir\n",
    "    return count"
   ]
  },
  {
   "cell_type": "code",
   "execution_count": 21,
   "metadata": {},
   "outputs": [],
   "source": [
    "def update_seats(seats, tolerance_lvl, first_seats):\n",
    "    previous = []\n",
    "    current = list(seats)\n",
    "    \n",
    "    while previous != current:\n",
    "        previous = list(current)\n",
    "        current = []\n",
    "        \n",
    "        for id_row, prev_row in enumerate(previous):\n",
    "            curr_row = ''\n",
    "            \n",
    "            for id_col, prev_val in enumerate(prev_row):\n",
    "                if first_seats:\n",
    "                    nb_occ_seats = numbers_first_occupied_seats(previous, id_row, id_col)\n",
    "                else:\n",
    "                    nb_occ_seats = numbers_adj_occupied_seats(previous, id_row, id_col)\n",
    "                \n",
    "                if prev_val == 'L' and nb_occ_seats == 0:\n",
    "                    curr_row += '#'\n",
    "                elif prev_val == '#' and nb_occ_seats >= tolerance_lvl:\n",
    "                    curr_row += 'L'\n",
    "                else:\n",
    "                    curr_row += prev_val\n",
    "            current.append(curr_row)\n",
    "    return current"
   ]
  },
  {
   "cell_type": "code",
   "execution_count": 24,
   "metadata": {},
   "outputs": [
    {
     "name": "stdout",
     "output_type": "stream",
     "text": [
      "Part 1 : 2183\n",
      "Part 2 : 1990\n"
     ]
    }
   ],
   "source": [
    "with open('data.txt', 'r') as file:\n",
    "    seats = [line.rstrip() for line in file.read().split('\\n')]\n",
    "    \n",
    "    final_state = update_seats(seats, 4, False)\n",
    "    print(\"Part 1 : {}\".format(count_occupied_seats(final_state)))\n",
    "    final_state = update_seats(seats, 5, True)\n",
    "    print(\"Part 2 : {}\".format(count_occupied_seats(final_state)))"
   ]
  },
  {
   "cell_type": "code",
   "execution_count": null,
   "metadata": {},
   "outputs": [],
   "source": []
  }
 ],
 "metadata": {
  "kernelspec": {
   "display_name": "Python 3",
   "language": "python",
   "name": "python3"
  },
  "language_info": {
   "codemirror_mode": {
    "name": "ipython",
    "version": 3
   },
   "file_extension": ".py",
   "mimetype": "text/x-python",
   "name": "python",
   "nbconvert_exporter": "python",
   "pygments_lexer": "ipython3",
   "version": "3.8.5"
  }
 },
 "nbformat": 4,
 "nbformat_minor": 4
}
