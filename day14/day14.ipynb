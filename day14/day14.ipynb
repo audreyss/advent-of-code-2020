{
 "cells": [
  {
   "cell_type": "code",
   "execution_count": 1,
   "metadata": {},
   "outputs": [],
   "source": [
    "import math"
   ]
  },
  {
   "cell_type": "code",
   "execution_count": 2,
   "metadata": {},
   "outputs": [],
   "source": [
    "def get_value_after_mask(mask, value):\n",
    "    val = bin(value)[2:].zfill(36)\n",
    "\n",
    "    for i in range(36):\n",
    "        if mask[i] == 'X':\n",
    "            continue\n",
    "        val = val[:i] + mask[i] + val[(i + 1):]\n",
    "        \n",
    "    return int(val, 2)"
   ]
  },
  {
   "cell_type": "code",
   "execution_count": 3,
   "metadata": {},
   "outputs": [],
   "source": [
    "def get_memory_addr(mask, add):\n",
    "    add = bin(add)[2:].zfill(36)\n",
    "    mem_addr = [0]\n",
    "    \n",
    "    for i in range(36):\n",
    "        if mask[i] != 'X':\n",
    "            tmp = int(add[i]) if mask[i] == '0' else 1\n",
    "            mem_addr = [a + tmp * math.pow(2, 35 - i) for a in mem_addr]\n",
    "            continue\n",
    "        tmp = []\n",
    "        for a in mem_addr:\n",
    "            tmp.append(a + math.pow(2, 35 - i))\n",
    "        mem_addr.extend(tmp)\n",
    "    return mem_addr"
   ]
  },
  {
   "cell_type": "code",
   "execution_count": 4,
   "metadata": {},
   "outputs": [],
   "source": [
    "def decoder(lines, part1):\n",
    "    mask = ''\n",
    "    mem_values = {}\n",
    "    \n",
    "    for line in lines:\n",
    "        if 'mask' in line:\n",
    "            mask = line.split('= ')[1]\n",
    "        elif 'mem' in line:\n",
    "            idx = int(line.split(']')[0].split('[')[1])\n",
    "            val = int(line.split('= ')[1])\n",
    "            if part1:\n",
    "                mem_values[idx] = get_value_after_mask(mask, val)\n",
    "            else:\n",
    "                l = get_memory_addr(mask, idx)\n",
    "                for addr in l:\n",
    "                    mem_values[addr] = val\n",
    "    \n",
    "    return sum(mem_values.values())"
   ]
  },
  {
   "cell_type": "code",
   "execution_count": 5,
   "metadata": {},
   "outputs": [
    {
     "name": "stdout",
     "output_type": "stream",
     "text": [
      "Part 1 : 13105044880745\n",
      "Part 2 : 3505392154485\n"
     ]
    }
   ],
   "source": [
    "with open('data.txt', 'r') as file:\n",
    "    lines = [line.rstrip() for line in file.read().rsplit('\\n')]\n",
    "    print(\"Part 1 : {}\".format(decoder(lines, True)))\n",
    "    print(\"Part 2 : {}\".format(decoder(lines, False)))"
   ]
  }
 ],
 "metadata": {
  "kernelspec": {
   "display_name": "Python 3",
   "language": "python",
   "name": "python3"
  },
  "language_info": {
   "codemirror_mode": {
    "name": "ipython",
    "version": 3
   },
   "file_extension": ".py",
   "mimetype": "text/x-python",
   "name": "python",
   "nbconvert_exporter": "python",
   "pygments_lexer": "ipython3",
   "version": "3.8.5"
  }
 },
 "nbformat": 4,
 "nbformat_minor": 4
}
