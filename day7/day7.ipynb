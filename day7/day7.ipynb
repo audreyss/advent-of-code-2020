{
 "cells": [
  {
   "cell_type": "code",
   "execution_count": 1,
   "metadata": {},
   "outputs": [],
   "source": [
    "def create_dico_list(l):\n",
    "    d = {}\n",
    "    \n",
    "    if len(l) == 1 and l[0] == 'no other bags.':\n",
    "        return d\n",
    "\n",
    "    for elt in l:\n",
    "        s = elt.split('.')[0].split(' ', 1)\n",
    "        d[s[1]] = s[0]\n",
    "    \n",
    "    return d\n",
    "            "
   ]
  },
  {
   "cell_type": "code",
   "execution_count": 2,
   "metadata": {},
   "outputs": [],
   "source": [
    "def find_golden_bags(dico):\n",
    "    l = []\n",
    "    \n",
    "    for elt in dico.keys():\n",
    "        l = find_golden_bags_rec(dico, elt, l)\n",
    "        \n",
    "    return l"
   ]
  },
  {
   "cell_type": "code",
   "execution_count": 3,
   "metadata": {},
   "outputs": [],
   "source": [
    "def find_golden_bags_rec(dico, bag, l_bags):\n",
    "    if bag in l_bags:\n",
    "        return l_bags\n",
    "    \n",
    "    bags = dico.get(bag)\n",
    "\n",
    "    if not bags:\n",
    "        return l_bags\n",
    "\n",
    "    for b, nb in bags.items():\n",
    "        if int(nb) == 1:\n",
    "            b = b + 's'\n",
    "        \n",
    "        if b == 'shiny gold bags':\n",
    "            l_bags.append(bag)\n",
    "            return l_bags\n",
    "        if b in l_bags:\n",
    "            l_bags.append(bag)\n",
    "            return l_bags\n",
    "\n",
    "        l = find_golden_bags_rec(dico, b, l_bags)\n",
    "        \n",
    "        if b in l:\n",
    "            l.append(bag)\n",
    "            return l\n",
    "        \n",
    "    return l_bags"
   ]
  },
  {
   "cell_type": "code",
   "execution_count": 4,
   "metadata": {},
   "outputs": [],
   "source": [
    "def find_number_bags(dico):\n",
    "    d_bags = dico.get('shiny gold bags')\n",
    "    nb = 0\n",
    "    \n",
    "    for elt, n in d_bags.items():\n",
    "        res = find_number_bags_rec(dico, elt)\n",
    "        nb += int(n) + int(n) * res\n",
    "        \n",
    "    return nb"
   ]
  },
  {
   "cell_type": "code",
   "execution_count": 5,
   "metadata": {},
   "outputs": [],
   "source": [
    "def find_number_bags_rec(dico, bag):\n",
    "    bag = bag.split('bag')[0]+'bags'    \n",
    "    bags = dico.get(bag)\n",
    "\n",
    "    if not bags:\n",
    "        return 0\n",
    "    \n",
    "    res = 0\n",
    "    for b, nb in bags.items():      \n",
    "        n = find_number_bags_rec(dico, b) \n",
    "        res += int(nb) + n * int(nb)\n",
    "    \n",
    "    return res"
   ]
  },
  {
   "cell_type": "code",
   "execution_count": 6,
   "metadata": {},
   "outputs": [
    {
     "name": "stdout",
     "output_type": "stream",
     "text": [
      "Part 1 : 103\n",
      "Part 2 : 1469\n"
     ]
    }
   ],
   "source": [
    "with open('data.txt', 'r') as file:\n",
    "    lines = [line.split(' contain ') for line in file.read().split('\\n')]\n",
    "    dico = {elt[0]: elt[1].split(', ') for elt in lines}\n",
    "    \n",
    "    d = {}\n",
    "    for bag, elt in dico.items():\n",
    "        d[bag] = create_dico_list(elt)\n",
    "    \n",
    "    print(\"Part 1 : {}\".format(len(find_golden_bags(d))))\n",
    "    print(\"Part 2 : {}\".format(find_number_bags(d)))\n",
    "    \n",
    "    "
   ]
  }
 ],
 "metadata": {
  "kernelspec": {
   "display_name": "Python 3",
   "language": "python",
   "name": "python3"
  },
  "language_info": {
   "codemirror_mode": {
    "name": "ipython",
    "version": 3
   },
   "file_extension": ".py",
   "mimetype": "text/x-python",
   "name": "python",
   "nbconvert_exporter": "python",
   "pygments_lexer": "ipython3",
   "version": "3.8.5"
  }
 },
 "nbformat": 4,
 "nbformat_minor": 4
}
