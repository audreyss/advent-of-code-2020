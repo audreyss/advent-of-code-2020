{
 "cells": [
  {
   "cell_type": "code",
   "execution_count": 3,
   "metadata": {},
   "outputs": [],
   "source": [
    "def get_row_col(min, max, passport_str, ind_str):\n",
    "    letter = passport_str[ind_str]\n",
    "    nb = (max - min + 1) / 2\n",
    "    if nb == 1 and letter in ('F', 'L'):\n",
    "        return min\n",
    "    if nb == 1 and letter in ('B', 'R'):\n",
    "        return max\n",
    "    if letter in ('F', 'L'):\n",
    "        return get_row_col(min, max - nb, passport_str, ind_str + 1)\n",
    "    if letter in ('B', 'R'):\n",
    "        return get_row_col(min + nb, max, passport_str, ind_str + 1)\n",
    "\n",
    "    \n",
    "def get_infos(passport_str):\n",
    "    row = get_row_col(0, 127, passport_str, 0)\n",
    "    col = get_row_col(0, 7, passport_str, 7)\n",
    "    return (int(row), int(col))"
   ]
  },
  {
   "cell_type": "code",
   "execution_count": 4,
   "metadata": {},
   "outputs": [
    {
     "name": "stdout",
     "output_type": "stream",
     "text": [
      "Max seatID : 926\n",
      "Missing seatIDs : [657]\n"
     ]
    }
   ],
   "source": [
    "with open('data.txt', 'r') as file:\n",
    "    seats_raw = [line.replace('\\n', '') for line in file]\n",
    "    seats = [get_infos(seat_line) for seat_line in seats_raw]\n",
    "    seatIDs = [row * 8 + col for (row, col) in seats]\n",
    "    list_nb = list(range(seatIDs[0], seatIDs[-1]))\n",
    "    \n",
    "    print(\"Max seatID : {}\".format(max(seatIDs)))\n",
    "    print(\"Missing seatIDs : {}\".format([i for i in list_nb if i not in seatIDs]))"
   ]
  }
 ],
 "metadata": {
  "kernelspec": {
   "display_name": "Python 3",
   "language": "python",
   "name": "python3"
  },
  "language_info": {
   "codemirror_mode": {
    "name": "ipython",
    "version": 3
   },
   "file_extension": ".py",
   "mimetype": "text/x-python",
   "name": "python",
   "nbconvert_exporter": "python",
   "pygments_lexer": "ipython3",
   "version": "3.8.5"
  }
 },
 "nbformat": 4,
 "nbformat_minor": 4
}
