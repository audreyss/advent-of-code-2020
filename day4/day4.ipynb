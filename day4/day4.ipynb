{
 "cells": [
  {
   "cell_type": "code",
   "execution_count": 1,
   "metadata": {},
   "outputs": [],
   "source": [
    "basic_headers = ['ecl', 'pid', 'eyr', 'hcl', 'byr', 'iyr', 'hgt']"
   ]
  },
  {
   "cell_type": "code",
   "execution_count": 2,
   "metadata": {},
   "outputs": [],
   "source": [
    "import re\n",
    "\n",
    "def check_hgt(hgt):\n",
    "    if 'cm' in hgt and 150 <= int(hgt.split('c')[0]) <= 193:\n",
    "        return True\n",
    "    if 'in' in hgt and 59 <= int(hgt.split('i')[0]) <= 76:\n",
    "        return True\n",
    "    return False\n",
    "\n",
    "rules = {\n",
    "    'ecl' : (lambda x : x in ('amb', 'blu', 'brn', 'gry', 'grn', 'hzl', 'oth')),\n",
    "    'pid' : (lambda x : x.isdigit() and len(x) == 9),\n",
    "    'eyr' : (lambda x : x.isdigit() and 2020 <= int(x) <= 2030),\n",
    "    'hcl' : (lambda x : re.match(r\"^#[0-9a-fA-F]{6}$\", x)),\n",
    "    'byr' : (lambda x : x.isdigit() and 1920 <= int(x) <= 2002),\n",
    "    'iyr' : (lambda x : x.isdigit() and 2010 <= int(x) <= 2020),\n",
    "    'hgt' : (lambda x : check_hgt(x)),\n",
    "    'cid' : (lambda x : True)\n",
    "    \n",
    "}"
   ]
  },
  {
   "cell_type": "code",
   "execution_count": 3,
   "metadata": {},
   "outputs": [],
   "source": [
    "def check_requiered_fields(dico):\n",
    "    for f in basic_headers:\n",
    "        if f not in dico:\n",
    "            return False\n",
    "    return True"
   ]
  },
  {
   "cell_type": "code",
   "execution_count": 4,
   "metadata": {},
   "outputs": [],
   "source": [
    "def check_valid_fields(dico):\n",
    "    for field, val in dico.items():\n",
    "        rule = rules.get(field)\n",
    "        \n",
    "        if not rule(val):\n",
    "            return False\n",
    "    return True"
   ]
  },
  {
   "cell_type": "code",
   "execution_count": 5,
   "metadata": {},
   "outputs": [
    {
     "name": "stdout",
     "output_type": "stream",
     "text": [
      "224\n"
     ]
    }
   ],
   "source": [
    "file = open('data.txt', 'r')\n",
    "lines = [line.replace('\\n', ' ') for line in file.read().split('\\n\\n')]\n",
    "\n",
    "cpt = 0\n",
    "for line in lines:\n",
    "    fields = {s.split(':')[0] : s.split(':')[1] for s in line.split(' ')}\n",
    "    \n",
    "    if not check_requiered_fields(fields):\n",
    "        continue\n",
    "    if check_valid_fields(fields):\n",
    "        cpt += 1\n",
    "\n",
    "print(cpt)            \n",
    "\n",
    "file.close()"
   ]
  }
 ],
 "metadata": {
  "kernelspec": {
   "display_name": "Python 3",
   "language": "python",
   "name": "python3"
  },
  "language_info": {
   "codemirror_mode": {
    "name": "ipython",
    "version": 3
   },
   "file_extension": ".py",
   "mimetype": "text/x-python",
   "name": "python",
   "nbconvert_exporter": "python",
   "pygments_lexer": "ipython3",
   "version": "3.8.5"
  }
 },
 "nbformat": 4,
 "nbformat_minor": 4
}
