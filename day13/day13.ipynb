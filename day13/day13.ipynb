{
 "cells": [
  {
   "cell_type": "code",
   "execution_count": 1,
   "metadata": {},
   "outputs": [],
   "source": [
    "def get_next_depart_bus(time_arrival, bus_nbs):\n",
    "    departures = {}\n",
    "    \n",
    "    for bus in bus_nbs:\n",
    "        tmp = time_arrival // bus * bus + bus\n",
    "        departures[bus] = tmp\n",
    "    \n",
    "    min_bus = min(departures, key = departures.get)\n",
    "    \n",
    "    return min_bus, departures[min_bus]"
   ]
  },
  {
   "cell_type": "code",
   "execution_count": 2,
   "metadata": {},
   "outputs": [],
   "source": [
    "def check_values(bus_nbs, first_dep):\n",
    "    for i, bus_id in enumerate(bus_nbs):\n",
    "        if bus_id == 'x':\n",
    "            continue\n",
    "        bus = int(bus_id)\n",
    "        if (first_dep + i) % bus != 0:\n",
    "            return False\n",
    "    return True"
   ]
  },
  {
   "cell_type": "code",
   "execution_count": 3,
   "metadata": {},
   "outputs": [],
   "source": [
    "def get_first_timestamp(bus_nbs):\n",
    "    timestamp = 0\n",
    "    step = list(bus_nbs_pt2)[0]\n",
    "    \n",
    "    for bus_id, index in bus_nbs.items():\n",
    "        if index == 0:\n",
    "            continue\n",
    "\n",
    "        while (timestamp + index) % bus_id != 0:\n",
    "            timestamp += step\n",
    "        \n",
    "        step *= bus_id\n",
    "        \n",
    "    return timestamp"
   ]
  },
  {
   "cell_type": "code",
   "execution_count": 4,
   "metadata": {},
   "outputs": [
    {
     "name": "stdout",
     "output_type": "stream",
     "text": [
      "Part 1 : 3385\n",
      "Part 2 : 600689120448303\n"
     ]
    }
   ],
   "source": [
    "with open('data.txt', 'r') as file:\n",
    "    time_arrival = int(file.readline().rstrip('\\n'))\n",
    "    bus_nbs = file.readline().rstrip('\\n').split(',')\n",
    "    bus_nbs_without_x = [int(bus) for bus in bus_nbs if bus != 'x']\n",
    "    \n",
    "    next_bus, bus_depart = get_next_depart_bus(time_arrival, bus_nbs_without_x)\n",
    "    print(\"Part 1 : {}\".format((bus_depart - time_arrival) * next_bus))\n",
    "    \n",
    "    bus_nbs_pt2 = {int(bus) : i for i, bus in enumerate(bus_nbs) if bus != 'x'}\n",
    "    print(\"Part 2 : {}\".format(get_first_timestamp(bus_nbs_pt2)))"
   ]
  }
 ],
 "metadata": {
  "kernelspec": {
   "display_name": "Python 3",
   "language": "python",
   "name": "python3"
  },
  "language_info": {
   "codemirror_mode": {
    "name": "ipython",
    "version": 3
   },
   "file_extension": ".py",
   "mimetype": "text/x-python",
   "name": "python",
   "nbconvert_exporter": "python",
   "pygments_lexer": "ipython3",
   "version": "3.8.5"
  }
 },
 "nbformat": 4,
 "nbformat_minor": 4
}
