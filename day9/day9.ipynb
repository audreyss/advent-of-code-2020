{
 "cells": [
  {
   "cell_type": "code",
   "execution_count": 1,
   "metadata": {},
   "outputs": [],
   "source": [
    "def get_list_sum(l, ind, n):\n",
    "    s = []\n",
    "    tmp = l[ind - n : ind]\n",
    "    for i in range(len(tmp)):\n",
    "        s.extend([tmp[i] + j for j in tmp[i + 1:]])\n",
    "    return s"
   ]
  },
  {
   "cell_type": "code",
   "execution_count": 2,
   "metadata": {},
   "outputs": [],
   "source": [
    "def check_values(l, n):\n",
    "    for i in range(n, len(l)):\n",
    "        sum_list = get_list_sum(l, i, n)\n",
    "        if l[i] not in sum_list:\n",
    "            return l[i]\n",
    "    return -1"
   ]
  },
  {
   "cell_type": "code",
   "execution_count": 3,
   "metadata": {},
   "outputs": [],
   "source": [
    "def find_nb(l, nb):\n",
    "    for i in range(len(l) - 1):\n",
    "        for j in range(i + 1, len(l)):\n",
    "            s = sum(l[i:j+1])\n",
    "            if s == nb:\n",
    "                return i, j\n",
    "            if s > nb:\n",
    "                break\n",
    "    return -1, -1\n",
    "        "
   ]
  },
  {
   "cell_type": "code",
   "execution_count": 4,
   "metadata": {},
   "outputs": [],
   "source": [
    "def get_sum_min_max(l, min_ind, max_ind):\n",
    "    tmp = l[min_ind:max_ind + 1]\n",
    "    return min(tmp) + max(tmp)"
   ]
  },
  {
   "cell_type": "code",
   "execution_count": 5,
   "metadata": {},
   "outputs": [
    {
     "name": "stdout",
     "output_type": "stream",
     "text": [
      "Part 1: 15353384\n",
      "Part 2: 2466556\n"
     ]
    }
   ],
   "source": [
    "with open('data.txt', 'r') as file:\n",
    "    lines = [int(line.rstrip()) for line in file.read().split('\\n')]\n",
    "    \n",
    "    value = check_values(lines, 25)\n",
    "    print(\"Part 1: {}\".format(value))\n",
    "    min_ind, max_ind = find_nb(lines, value)\n",
    "    print(\"Part 2: {}\".format(get_sum_min_max(lines, min_ind, max_ind)))"
   ]
  },
  {
   "cell_type": "code",
   "execution_count": null,
   "metadata": {},
   "outputs": [],
   "source": []
  }
 ],
 "metadata": {
  "kernelspec": {
   "display_name": "Python 3",
   "language": "python",
   "name": "python3"
  },
  "language_info": {
   "codemirror_mode": {
    "name": "ipython",
    "version": 3
   },
   "file_extension": ".py",
   "mimetype": "text/x-python",
   "name": "python",
   "nbconvert_exporter": "python",
   "pygments_lexer": "ipython3",
   "version": "3.8.5"
  }
 },
 "nbformat": 4,
 "nbformat_minor": 4
}
