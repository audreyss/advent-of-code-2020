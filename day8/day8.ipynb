{
 "cells": [
  {
   "cell_type": "code",
   "execution_count": 10,
   "metadata": {},
   "outputs": [],
   "source": [
    "def loop_instruction(lines):\n",
    "    acc = 0\n",
    "    step = 1\n",
    "    ind = 0\n",
    "    visited = []\n",
    "    \n",
    "    while ind not in visited:\n",
    "        visited.append(ind)\n",
    "        cmd, value = lines[ind].split(' ')\n",
    "        \n",
    "        if cmd == 'acc':\n",
    "            acc += int(value)\n",
    "        if cmd == 'jmp':\n",
    "            ind += int(value)\n",
    "        else:\n",
    "            ind += 1\n",
    "        if ind == len(lines):\n",
    "            break\n",
    "    return acc, ind"
   ]
  },
  {
   "cell_type": "code",
   "execution_count": 11,
   "metadata": {},
   "outputs": [],
   "source": [
    "def find_cmd(l, ind):\n",
    "    for i in range(ind + 1, len(l)):\n",
    "        cmd, value = lines[i].split(' ')\n",
    "        if cmd in ('jmp', 'nop'):\n",
    "            return i\n",
    "    return len(l)"
   ]
  },
  {
   "cell_type": "code",
   "execution_count": 12,
   "metadata": {},
   "outputs": [],
   "source": [
    "def change_cmd(line):\n",
    "    cmd, value = line.split(' ')\n",
    "    if cmd == 'jmp':\n",
    "        return 'nop ' + value\n",
    "    return 'jmp ' + value"
   ]
  },
  {
   "cell_type": "code",
   "execution_count": 13,
   "metadata": {},
   "outputs": [],
   "source": [
    "def loop_with_modification(lines):\n",
    "    tmp = list(lines)\n",
    "    acc, last_ind = loop_instruction(lines)\n",
    "    ind = 0\n",
    "    \n",
    "    while last_ind < len(lines):\n",
    "        ind = find_cmd(lines, ind)\n",
    "        tmp = list(lines)\n",
    "        tmp[ind] = change_cmd(lines[ind])\n",
    "        \n",
    "        acc, last_ind = loop_instruction(tmp)\n",
    "        \n",
    "    return acc"
   ]
  },
  {
   "cell_type": "code",
   "execution_count": 14,
   "metadata": {
    "scrolled": true
   },
   "outputs": [
    {
     "name": "stdout",
     "output_type": "stream",
     "text": [
      "Part 1 result : 1446\n",
      "Part 2 result : 1403\n"
     ]
    }
   ],
   "source": [
    "with open('data.txt', 'r') as file:\n",
    "    lines = [line.rstrip() for line in file.read().split('\\n')]\n",
    "          \n",
    "    print(\"Part 1 result : {}\".format(loop_instruction(lines)[0]))\n",
    "    print(\"Part 2 result : {}\".format(loop_with_modification(lines)))\n",
    "    "
   ]
  }
 ],
 "metadata": {
  "kernelspec": {
   "display_name": "Python 3",
   "language": "python",
   "name": "python3"
  },
  "language_info": {
   "codemirror_mode": {
    "name": "ipython",
    "version": 3
   },
   "file_extension": ".py",
   "mimetype": "text/x-python",
   "name": "python",
   "nbconvert_exporter": "python",
   "pygments_lexer": "ipython3",
   "version": "3.8.5"
  }
 },
 "nbformat": 4,
 "nbformat_minor": 4
}
