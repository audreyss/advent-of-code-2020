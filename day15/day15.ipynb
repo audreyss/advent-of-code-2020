{
 "cells": [
  {
   "cell_type": "code",
   "execution_count": 30,
   "metadata": {},
   "outputs": [],
   "source": [
    "def get_last_number(input_nbs, max_id):\n",
    "    last_number = 0\n",
    "    spoken_nbs = {}\n",
    "\n",
    "    for i, nb in enumerate(input_nb):\n",
    "        if i != 0:\n",
    "            spoken_nbs[last_number] = i\n",
    "        last_number = nb    \n",
    "\n",
    "    for i in range((len(input_nb) + 1), max_id + 1):\n",
    "        if last_number not in spoken_nbs:\n",
    "            spoken_nbs[last_number] = i - 1\n",
    "            last_number = 0\n",
    "            continue\n",
    "        \n",
    "        last_occ = spoken_nbs[last_number]\n",
    "        spoken_nbs[last_number] = i - 1\n",
    "        last_number = i - 1 - last_occ\n",
    "    \n",
    "    return last_number"
   ]
  },
  {
   "cell_type": "code",
   "execution_count": 31,
   "metadata": {},
   "outputs": [
    {
     "name": "stdout",
     "output_type": "stream",
     "text": [
      "Part 1 : 1696\n",
      "Part 2 : 37385\n"
     ]
    }
   ],
   "source": [
    "with open('data.txt', 'r') as file:\n",
    "    input_nb = [int(nb) for nb in file.read().rstrip().split(',')]\n",
    "\n",
    "print(\"Part 1 : {}\".format(get_last_number(input_nb, 2020)))\n",
    "print(\"Part 2 : {}\".format(get_last_number(input_nb, 30000000)))"
   ]
  }
 ],
 "metadata": {
  "kernelspec": {
   "display_name": "Python 3",
   "language": "python",
   "name": "python3"
  },
  "language_info": {
   "codemirror_mode": {
    "name": "ipython",
    "version": 3
   },
   "file_extension": ".py",
   "mimetype": "text/x-python",
   "name": "python",
   "nbconvert_exporter": "python",
   "pygments_lexer": "ipython3",
   "version": "3.8.5"
  }
 },
 "nbformat": 4,
 "nbformat_minor": 4
}
