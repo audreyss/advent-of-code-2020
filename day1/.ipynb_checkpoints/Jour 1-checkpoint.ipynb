{
 "cells": [
  {
   "cell_type": "markdown",
   "metadata": {},
   "source": [
    "Résultats ok mais code à améliorer (utilisation de combinations par exemple)"
   ]
  },
  {
   "cell_type": "code",
   "execution_count": 1,
   "metadata": {},
   "outputs": [],
   "source": [
    "# get numbers\n",
    "file = open('data_j1.txt', 'r') \n",
    "Lines = file.readlines()\n",
    "\n",
    "list = []\n",
    "for line in Lines:\n",
    "    list.append(int(line.strip(), 10))"
   ]
  },
  {
   "cell_type": "code",
   "execution_count": 2,
   "metadata": {},
   "outputs": [],
   "source": [
    "list.sort()\n",
    "list"
   ]
  },
  {
   "cell_type": "code",
   "execution_count": 3,
   "metadata": {},
   "outputs": [],
   "source": [
    "# first result\n",
    "def get_mult_2numbers(l):\n",
    "    for i in range(len(l)):\n",
    "        nb_1 = list[i]\n",
    "        for j in range(i, len(l)):\n",
    "            nb_2 = list[j]\n",
    "            s = nb_1 + nb_2\n",
    "            if s > 2020:\n",
    "                break;\n",
    "            if s == 2020:\n",
    "                print(\"{}  {}\".format(nb_1, nb_2))\n",
    "                return nb_1 * nb_2\n",
    "            "
   ]
  },
  {
   "cell_type": "code",
   "execution_count": 4,
   "metadata": {},
   "outputs": [],
   "source": [
    "get_mult_2numbers(list)"
   ]
  },
  {
   "cell_type": "code",
   "execution_count": 5,
   "metadata": {},
   "outputs": [],
   "source": [
    "# second result\n",
    "def get_mult_3numbers(l):\n",
    "    for i in range(len(l)):\n",
    "        nb_1 = list[i]\n",
    "        for j in range(i, len(l)):\n",
    "            nb_2 = list[j]\n",
    "            s = nb_1 + nb_2\n",
    "            if s >= 2020:\n",
    "                break;\n",
    "            for h in range(j, len(l)):\n",
    "                nb_3 = list[h]\n",
    "                s3 = s + nb_3\n",
    "                if s3 > 2020:\n",
    "                    break;\n",
    "                if s3 == 2020:\n",
    "                    print(\"{}  {}  {}\".format(nb_1, nb_2, nb_3))\n",
    "                    return nb_1 * nb_2 * nb_3\n",
    "    print(\"nothing found\")"
   ]
  },
  {
   "cell_type": "code",
   "execution_count": 6,
   "metadata": {},
   "outputs": [
    {
     "name": "stdout",
     "output_type": "stream",
     "text": [
      "198  395  1427\n"
     ]
    },
    {
     "data": {
      "text/plain": [
       "111605670"
      ]
     },
     "execution_count": 6,
     "metadata": {},
     "output_type": "execute_result"
    }
   ],
   "source": [
    "get_mult_3numbers(list)"
   ]
  },
  {
   "cell_type": "code",
   "execution_count": 7,
   "metadata": {},
   "outputs": [],
   "source": [
    "file.close()"
   ]
  }
 ],
 "metadata": {
  "kernelspec": {
   "display_name": "Python 3",
   "language": "python",
   "name": "python3"
  },
  "language_info": {
   "codemirror_mode": {
    "name": "ipython",
    "version": 3
   },
   "file_extension": ".py",
   "mimetype": "text/x-python",
   "name": "python",
   "nbconvert_exporter": "python",
   "pygments_lexer": "ipython3",
   "version": "3.8.5"
  }
 },
 "nbformat": 4,
 "nbformat_minor": 4
}
