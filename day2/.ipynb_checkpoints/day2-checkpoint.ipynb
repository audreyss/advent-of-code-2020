{
 "cells": [
  {
   "cell_type": "code",
   "execution_count": 32,
   "metadata": {},
   "outputs": [
    {
     "data": {
      "text/plain": [
       "383"
      ]
     },
     "execution_count": 32,
     "metadata": {},
     "output_type": "execute_result"
    }
   ],
   "source": [
    "cpt = 0\n",
    "\n",
    "with open('data.txt', 'r') as file:\n",
    "    for line in file:\n",
    "        tmp = line.replace('-', \" \").replace(':', \" \").split(\" \")\n",
    "        min, max, letter, password = int(tmp[0], 10), int(tmp[1], 10), tmp[2], tmp[4]\n",
    "        \n",
    "        occ = password.count(letter)\n",
    "        if occ >= min and occ <= max:\n",
    "            cpt += 1\n",
    "\n",
    "cpt\n",
    "        "
   ]
  },
  {
   "cell_type": "code",
   "execution_count": 40,
   "metadata": {},
   "outputs": [
    {
     "data": {
      "text/plain": [
       "272"
      ]
     },
     "execution_count": 40,
     "metadata": {},
     "output_type": "execute_result"
    }
   ],
   "source": [
    "from operator import xor\n",
    "\n",
    "\n",
    "cpt = 0\n",
    "\n",
    "with open('data.txt', 'r') as file:\n",
    "    for line in file:\n",
    "        tmp = line.replace('-', \" \").replace(':', \" \").split(\" \")\n",
    "        pos1, pos2, l, password = int(tmp[0], 10) - 1, int(tmp[1], 10) - 1, tmp[2], tmp[4]\n",
    "        \n",
    "        if xor(bool(password[pos1] == l), bool(password[pos2] == l)):\n",
    "            cpt += 1\n",
    "\n",
    "cpt"
   ]
  },
  {
   "cell_type": "markdown",
   "metadata": {},
   "source": [
    "résultats bons (xor() -> ^)"
   ]
  }
 ],
 "metadata": {
  "kernelspec": {
   "display_name": "Python 3",
   "language": "python",
   "name": "python3"
  },
  "language_info": {
   "codemirror_mode": {
    "name": "ipython",
    "version": 3
   },
   "file_extension": ".py",
   "mimetype": "text/x-python",
   "name": "python",
   "nbconvert_exporter": "python",
   "pygments_lexer": "ipython3",
   "version": "3.8.5"
  }
 },
 "nbformat": 4,
 "nbformat_minor": 4
}
